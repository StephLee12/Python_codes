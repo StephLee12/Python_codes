{
 "metadata": {
  "language_info": {
   "codemirror_mode": {
    "name": "ipython",
    "version": 3
   },
   "file_extension": ".py",
   "mimetype": "text/x-python",
   "name": "python",
   "nbconvert_exporter": "python",
   "pygments_lexer": "ipython3",
   "version": 3
  },
  "orig_nbformat": 2,
  "kernelspec": {
   "name": "python_defaultSpec_1595165319596",
   "display_name": "Python 3.7.7 64-bit ('usualEnv': conda)"
  }
 },
 "nbformat": 4,
 "nbformat_minor": 2,
 "cells": [
  {
   "cell_type": "code",
   "execution_count": 3,
   "metadata": {},
   "outputs": [],
   "source": [
    "import numpy as np  \n",
    "import pandas as pd \n",
    "import scipy.io as scio\n",
    "from math import pow\n",
    "import matplotlib.pyplot as plt \n",
    "\n",
    "# 参数\n",
    "Pho = 7.8  #密度\n",
    "Sigma = 4.03e6\n",
    "C = 460 # 比热\n",
    "T0 = 298 # 初始温度\n",
    "V = 10*4.5*0.024 # 体积\n",
    "dV = V/(256*320) \n",
    "dM = dV*Pho/(1000)\n",
    "dS = 100*45*pow(10,-6)/(256*320)\n",
    "S_CUT = np.sqrt(dS) * 0.24* pow(10,-3) #横截面积\n",
    "frame_time = 1/383 #每一帧的时间\n",
    "R0 = 0.73 * 0.1 / (45 * 0.24)"
   ]
  },
  {
   "cell_type": "code",
   "execution_count": null,
   "metadata": {},
   "outputs": [],
   "source": [
    "# 加载电流密度数据\n",
    "current_density = scio.loadmat('Training_1/heat.mat')['J']\n",
    "# 加载温度数据\n",
    "T = scio.loadmat('Training_1/TData.mat')['TData']\n",
    "# 计算产生的焦耳热\n",
    "Q = np.zeros_like(T)\n",
    "for i in range(Q.shape[0]):\n",
    "    for j in range(Q.shape[1]):\n",
    "        for k in range(Q.shape[2]):\n",
    "            if k == 0:\n",
    "                continue\n",
    "            Q[i,j,k] = C*dM*(T[i,j,k]-T[i,j,k-1])\n",
    "np.save(file='Training_1/Q.npy',arr=Q)\n",
    "# 计算阻抗\n",
    "R = np.zeros_like(Q)\n",
    "for i in range(R.shape[0]):\n",
    "    for j in range(R.shape[1]):\n",
    "        for k in range(R.shape[2]):\n",
    "            if k == 0:\n",
    "                R[i,j,k] = R0\n",
    "                continue\n",
    "            R[i,j,k] = Q[i,j,k]/(S_CUT**2 * Sigma * Pho * pow(10,3) * C * frame_time)\n",
    "\n",
    "np.save(file='Training_1/R.npy',arr=R)"
   ]
  },
  {
   "cell_type": "code",
   "execution_count": null,
   "metadata": {},
   "outputs": [],
   "source": [
    "print(R0)"
   ]
  },
  {
   "cell_type": "code",
   "execution_count": null,
   "metadata": {},
   "outputs": [],
   "source": []
  }
 ]
}