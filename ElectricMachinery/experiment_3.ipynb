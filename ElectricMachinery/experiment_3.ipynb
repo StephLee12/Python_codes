{
 "metadata": {
  "language_info": {
   "codemirror_mode": {
    "name": "ipython",
    "version": 3
   },
   "file_extension": ".py",
   "mimetype": "text/x-python",
   "name": "python",
   "nbconvert_exporter": "python",
   "pygments_lexer": "ipython3",
   "version": "3.7.7-final"
  },
  "orig_nbformat": 2,
  "kernelspec": {
   "name": "Python 3.7.7 64-bit",
   "display_name": "Python 3.7.7 64-bit",
   "metadata": {
    "interpreter": {
     "hash": "ffce47e96513169ae8a63192f15a1bcf444fe27eb030511ca4e393e94d40ac6b"
    }
   }
  }
 },
 "nbformat": 4,
 "nbformat_minor": 2,
 "cells": [
  {
   "cell_type": "code",
   "execution_count": 1,
   "metadata": {},
   "outputs": [],
   "source": [
    "import numpy as np \n",
    "\n",
    "S_N_alpha = 1800.0\n",
    "S_N_beta = 1000.0\n",
    "\n",
    "U_1N = 35.0\n",
    "U_1N_phi = U_1N/np.sqrt(3)\n",
    "\n",
    "U_2N,U_2N_phi = 10.0,10.0\n",
    "\n",
    "I_1N_alpha = S_N_alpha / (np.sqrt(3) * U_1N)\n",
    "I_1N_alpha_phi = I_1N_alpha\n",
    "\n",
    "I_1N_beta = S_N_beta / (np.sqrt(3) * U_2N)\n",
    "I_1N_beta_phi = I_1N_beta\n",
    "\n",
    "Z_m_alpha,Z_m_beta = [5000.0,5000.0],[5000.0,5000.0]\n",
    "k = U_1N_phi/U_2N_phi\n",
    "f = 50.0\n",
    "pi = np.pi\n",
    "Z_k_alpha_pu = 0.0825\n",
    "Z_k_beta_pu = 0.0675"
   ]
  },
  {
   "source": [
    "计算阻抗等参数"
   ],
   "cell_type": "markdown",
   "metadata": {}
  },
  {
   "cell_type": "code",
   "execution_count": 5,
   "metadata": {},
   "outputs": [
    {
     "output_type": "stream",
     "name": "stdout",
     "text": [
      "15.915494309189533\n0.000878939693185586\n0.0003698395592105583\n0.03515758772742344\n0.014793582368422332\n"
     ]
    }
   ],
   "source": [
    "L_m = Z_m_alpha[1] / (2*pi*f)\n",
    "print(L_m)\n",
    "Z_N_alpha = U_1N_phi*1000 / I_1N_alpha_phi\n",
    "Z_N_beta = U_1N_phi*1000 / I_1N_beta_phi\n",
    "Z_k_alpha_norm = Z_k_alpha_pu * Z_N_alpha\n",
    "Z_k_beta_norm = Z_k_beta_pu * Z_N_beta\n",
    "R_1_alpha = Z_k_alpha_norm / (np.sqrt(1+np.square(80*pi*f)) * (1+np.square(k)))\n",
    "print(R_1_alpha)\n",
    "R_1_beta= Z_k_beta_norm / (np.sqrt(1+np.square(80*pi*f)) * (1+np.square(k)))\n",
    "print(R_1_beta)\n",
    "L_1_alpha = 40 * R_1_alpha\n",
    "print(L_1_alpha)\n",
    "L_1_beta = 40 * R_1_beta\n",
    "print(L_1_beta)"
   ]
  },
  {
   "cell_type": "code",
   "execution_count": null,
   "metadata": {},
   "outputs": [],
   "source": []
  }
 ]
}