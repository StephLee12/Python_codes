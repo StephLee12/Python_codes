{
 "metadata": {
  "language_info": {
   "codemirror_mode": {
    "name": "ipython",
    "version": 3
   },
   "file_extension": ".py",
   "mimetype": "text/x-python",
   "name": "python",
   "nbconvert_exporter": "python",
   "pygments_lexer": "ipython3",
   "version": "3.7.7-final"
  },
  "orig_nbformat": 2,
  "kernelspec": {
   "name": "Python 3.7.7 64-bit ('usualEnv': conda)",
   "display_name": "Python 3.7.7 64-bit ('usualEnv': conda)",
   "metadata": {
    "interpreter": {
     "hash": "ffce47e96513169ae8a63192f15a1bcf444fe27eb030511ca4e393e94d40ac6b"
    }
   }
  }
 },
 "nbformat": 4,
 "nbformat_minor": 2,
 "cells": [
  {
   "source": [
    "题目中给定的参数"
   ],
   "cell_type": "markdown",
   "metadata": {}
  },
  {
   "cell_type": "code",
   "execution_count": 1,
   "metadata": {},
   "outputs": [],
   "source": [
    "import math\n",
    "import numpy as np \n",
    "U_1N = 10 # kV\n",
    "U_2N = 6.3 # kV\n",
    "S_N = np.float(3150) # kVA\n",
    "f = 50 # Hz\n",
    "k = U_1N/U_2N # 变比\n",
    "pi = math.pi\n",
    "R_1 = 0.1 # ohm\n",
    "X_1 = 0.8 # ohm\n",
    "R_2_1 = 0.15 # 折到一次侧的 ohm\n",
    "X_2_1 = 1.8 # 折到一次侧的 ohm\n",
    "R_m = np.float(500) # 励磁支路电阻 ohm\n",
    "X_m = np.float(500) # 励磁支路电抗 ohm"
   ]
  },
  {
   "source": [
    "将一次测和励磁的电抗换算为电感"
   ],
   "cell_type": "markdown",
   "metadata": {}
  },
  {
   "cell_type": "code",
   "execution_count": 2,
   "metadata": {},
   "outputs": [
    {
     "output_type": "stream",
     "name": "stdout",
     "text": [
      "L_1 is 0.0025464790894703256 H\nL_m is 1.5915494309189533 H\n"
     ]
    }
   ],
   "source": [
    "L_1 = X_1/(2*pi*f)\n",
    "L_m = X_m/(2*pi*f)\n",
    "print(\"L_1 is {} H\".format(L_1))\n",
    "print(\"L_m is {} H\".format(L_m))"
   ]
  },
  {
   "source": [
    "将二次侧的阻抗折算回二次侧 并将二次侧的电抗换算为电感"
   ],
   "cell_type": "markdown",
   "metadata": {}
  },
  {
   "cell_type": "code",
   "execution_count": 3,
   "metadata": {},
   "outputs": [
    {
     "output_type": "stream",
     "name": "stdout",
     "text": [
      "R_2 is 0.059534999999999984 ohm\nL_2 is 0.0022740694888742368 H\n"
     ]
    }
   ],
   "source": [
    "R_2 = R_2_1 / math.pow(k,2)\n",
    "X_2 = X_2_1 / math.pow(k,2)\n",
    "L_2 = X_2 / (2*pi*f)\n",
    "print(\"R_2 is {} ohm\".format(R_2))\n",
    "print(\"L_2 is {} H\".format(L_2))"
   ]
  },
  {
   "source": [
    "短路实验"
   ],
   "cell_type": "markdown",
   "metadata": {}
  },
  {
   "cell_type": "code",
   "execution_count": 4,
   "metadata": {},
   "outputs": [
    {
     "output_type": "stream",
     "name": "stdout",
     "text": [
      "I_1N is 315.0 A\n"
     ]
    }
   ],
   "source": [
    "I_1N = S_N / U_1N # 一次侧额定电流\n",
    "print(\"I_1N is {} A\".format(I_1N))"
   ]
  },
  {
   "source": [
    "计算短路阻抗"
   ],
   "cell_type": "markdown",
   "metadata": {}
  },
  {
   "cell_type": "code",
   "execution_count": 5,
   "metadata": {},
   "outputs": [
    {
     "output_type": "stream",
     "name": "stdout",
     "text": [
      "Z_k is 2.60984126984127 ohm\n",
      "题目中所给的短路阻抗为2.6119915773217954 ohm\n",
      "短路阻抗误差率为0.08232444159449306%\n"
     ]
    }
   ],
   "source": [
    "U_k = np.float(822.1) # V 为测得数据\n",
    "Z_k = U_k/I_1N # 短路阻抗\n",
    "print('Z_k is {} ohm'.format(Z_k))\n",
    "Z_k_question = np.sqrt(np.sum(np.square([R_1+R_2_1,X_1+X_2_1])))\n",
    "print('题目中所给的短路阻抗为{} ohm'.format(Z_k_question))\n",
    "error_rate = abs(Z_k-Z_k_question)*100 / Z_k_question\n",
    "print('短路阻抗误差率为{}%'.format(error_rate))"
   ]
  },
  {
   "source": [
    "计算短路电阻"
   ],
   "cell_type": "markdown",
   "metadata": {}
  },
  {
   "cell_type": "code",
   "execution_count": 6,
   "metadata": {},
   "outputs": [
    {
     "output_type": "stream",
     "name": "stdout",
     "text": [
      "R_k is 0.26485260770975055 ohm\n题目中所给的短路电阻为0.25 ohm\n短路电阻误差率为5.9410430839002215%\n"
     ]
    }
   ],
   "source": [
    "P = np.float(26280) # W\n",
    "p_k = P # 短路损耗\n",
    "R_k = p_k / np.square(I_1N)\n",
    "print('R_k is {} ohm'.format(R_k))\n",
    "R_k_question = R_1 + R_2_1\n",
    "print('题目中所给的短路电阻为{} ohm'.format(R_k_question))\n",
    "error_rate = abs(R_k - R_k_question) * 100 / R_k_question\n",
    "print('短路电阻误差率为{}%'.format(error_rate))"
   ]
  },
  {
   "source": [
    "计算短路电抗"
   ],
   "cell_type": "markdown",
   "metadata": {}
  },
  {
   "cell_type": "code",
   "execution_count": 7,
   "metadata": {},
   "outputs": [
    {
     "output_type": "stream",
     "name": "stdout",
     "text": [
      "X_k is 2.596367568345445 ohm\n题目中所给的短路电抗为2.6 ohm\n短路电抗为误差率为0.1397089097905881%\n"
     ]
    }
   ],
   "source": [
    "X_k  = np.sqrt(np.square(Z_k)-np.square(R_k))\n",
    "print('X_k is {} ohm'.format(X_k))\n",
    "X_k_question = X_1 + X_2_1\n",
    "print('题目中所给的短路电抗为{} ohm'.format(X_k_question))\n",
    "error_rate = abs(X_k-X_k_question) * 100 / X_k_question\n",
    "print('短路电抗为误差率为{}%'.format(error_rate))"
   ]
  },
  {
   "source": [
    "空载实验 从一次侧加电压"
   ],
   "cell_type": "markdown",
   "metadata": {}
  },
  {
   "source": [
    "计算变比"
   ],
   "cell_type": "markdown",
   "metadata": {}
  },
  {
   "cell_type": "code",
   "execution_count": 8,
   "metadata": {},
   "outputs": [
    {
     "output_type": "stream",
     "name": "stdout",
     "text": [
      "k is 1.5903307888040712\n题目中所给变比为1.5873015873015874\n"
     ]
    }
   ],
   "source": [
    "U_20 = np.float(6288)\n",
    "k_cal = U_1N * 1000 / U_20\n",
    "print('k is {}'.format(k_cal))\n",
    "print('题目中所给变比为{}'.format(k))"
   ]
  },
  {
   "source": [
    "计算励磁阻抗的模"
   ],
   "cell_type": "markdown",
   "metadata": {}
  },
  {
   "cell_type": "code",
   "execution_count": 9,
   "metadata": {},
   "outputs": [
    {
     "output_type": "error",
     "ename": "NameError",
     "evalue": "name 'coff' is not defined",
     "traceback": [
      "\u001b[1;31m---------------------------------------------------------------------------\u001b[0m",
      "\u001b[1;31mNameError\u001b[0m                                 Traceback (most recent call last)",
      "\u001b[1;32m<ipython-input-9-6a692bf506d7>\u001b[0m in \u001b[0;36m<module>\u001b[1;34m\u001b[0m\n\u001b[0;32m      1\u001b[0m \u001b[0mI_0\u001b[0m \u001b[1;33m=\u001b[0m \u001b[1;36m28.23\u001b[0m\u001b[1;33m\u001b[0m\u001b[1;33m\u001b[0m\u001b[0m\n\u001b[1;32m----> 2\u001b[1;33m \u001b[0mZ_m_norm\u001b[0m \u001b[1;33m=\u001b[0m \u001b[0mU_1N\u001b[0m\u001b[1;33m*\u001b[0m\u001b[1;36m1000\u001b[0m\u001b[1;33m/\u001b[0m\u001b[1;33m(\u001b[0m\u001b[0mI_0\u001b[0m\u001b[1;33m*\u001b[0m\u001b[0mcoff\u001b[0m\u001b[1;33m)\u001b[0m \u001b[1;31m# 励磁电阻和电感是并联的\u001b[0m\u001b[1;33m\u001b[0m\u001b[1;33m\u001b[0m\u001b[0m\n\u001b[0m\u001b[0;32m      3\u001b[0m \u001b[0mcoff\u001b[0m \u001b[1;33m=\u001b[0m \u001b[1;33m(\u001b[0m\u001b[0mR_m\u001b[0m \u001b[1;33m*\u001b[0m \u001b[0mX_m\u001b[0m\u001b[1;33m)\u001b[0m \u001b[1;33m/\u001b[0m \u001b[0mnp\u001b[0m\u001b[1;33m.\u001b[0m\u001b[0msum\u001b[0m\u001b[1;33m(\u001b[0m\u001b[0mnp\u001b[0m\u001b[1;33m.\u001b[0m\u001b[0msquare\u001b[0m\u001b[1;33m(\u001b[0m\u001b[1;33m[\u001b[0m\u001b[0mR_m\u001b[0m\u001b[1;33m,\u001b[0m\u001b[0mX_m\u001b[0m\u001b[1;33m]\u001b[0m\u001b[1;33m)\u001b[0m\u001b[1;33m)\u001b[0m\u001b[1;33m\u001b[0m\u001b[1;33m\u001b[0m\u001b[0m\n\u001b[0;32m      4\u001b[0m \u001b[0mZ_m_question\u001b[0m \u001b[1;33m=\u001b[0m \u001b[0mnp\u001b[0m\u001b[1;33m.\u001b[0m\u001b[0msqrt\u001b[0m\u001b[1;33m(\u001b[0m\u001b[0mnp\u001b[0m\u001b[1;33m.\u001b[0m\u001b[0msum\u001b[0m\u001b[1;33m(\u001b[0m\u001b[0mnp\u001b[0m\u001b[1;33m.\u001b[0m\u001b[0msquare\u001b[0m\u001b[1;33m(\u001b[0m\u001b[1;33m[\u001b[0m\u001b[0mR_m\u001b[0m\u001b[1;33m,\u001b[0m\u001b[0mX_m\u001b[0m\u001b[1;33m]\u001b[0m\u001b[1;33m)\u001b[0m\u001b[1;33m)\u001b[0m\u001b[1;33m)\u001b[0m\u001b[1;33m\u001b[0m\u001b[1;33m\u001b[0m\u001b[0m\n\u001b[0;32m      5\u001b[0m \u001b[0mprint\u001b[0m\u001b[1;33m(\u001b[0m\u001b[1;34m'题目中所给励磁阻抗的模为{} ohm'\u001b[0m\u001b[1;33m.\u001b[0m\u001b[0mformat\u001b[0m\u001b[1;33m(\u001b[0m\u001b[0mZ_m_question\u001b[0m\u001b[1;33m)\u001b[0m\u001b[1;33m)\u001b[0m\u001b[1;33m\u001b[0m\u001b[1;33m\u001b[0m\u001b[0m\n",
      "\u001b[1;31mNameError\u001b[0m: name 'coff' is not defined"
     ]
    }
   ],
   "source": [
    "I_0 = 28.23\n",
    "Z_m_norm = U_1N*1000/(I_0*coff) # 励磁电阻和电感是并联的\n",
    "coff = (R_m * X_m) / np.sum(np.square([R_m,X_m])) \n",
    "Z_m_question = np.sqrt(np.sum(np.square([R_m,X_m])))\n",
    "print('题目中所给励磁阻抗的模为{} ohm'.format(Z_m_question))\n",
    "print('励磁阻抗的模计算为{} ohm'.format(Z_m_norm))"
   ]
  },
  {
   "source": [
    "计算励磁电阻"
   ],
   "cell_type": "markdown",
   "metadata": {}
  },
  {
   "cell_type": "code",
   "execution_count": 123,
   "metadata": {},
   "outputs": [
    {
     "output_type": "stream",
     "name": "stdout",
     "text": [
      "励磁电阻计算为501.67335292594896 ohm\n题目中所给励磁电阻500.0 ohm\n"
     ]
    }
   ],
   "source": [
    "P = 199900.0\n",
    "p_0 = P\n",
    "R_m_cal = p_0 / (np.square(I_0) * coff)\n",
    "print('励磁电阻计算为{} ohm'.format(R_m_cal))\n",
    "print('题目中所给励磁电阻{} ohm'.format(R_m))"
   ]
  },
  {
   "source": [
    "计算励磁电抗"
   ],
   "cell_type": "markdown",
   "metadata": {}
  },
  {
   "cell_type": "code",
   "execution_count": 124,
   "metadata": {},
   "outputs": [
    {
     "output_type": "stream",
     "name": "stdout",
     "text": [
      "励磁电抗计算为500.248100493672 ohm\n题目中所给励磁电抗500.0 ohm\n"
     ]
    }
   ],
   "source": [
    "X_m_cal = np.sqrt(np.square(Z_m_norm)-np.square(R_m_cal))\n",
    "print('励磁电抗计算为{} ohm'.format(X_m_cal))\n",
    "print('题目中所给励磁电抗{} ohm'.format(X_m))"
   ]
  },
  {
   "source": [
    "空载实验 从二次侧加电压"
   ],
   "cell_type": "markdown",
   "metadata": {}
  },
  {
   "source": [
    "计算变比"
   ],
   "cell_type": "markdown",
   "metadata": {}
  },
  {
   "cell_type": "code",
   "execution_count": 125,
   "metadata": {},
   "outputs": [
    {
     "output_type": "stream",
     "name": "stdout",
     "text": [
      "k is 1.5788888888888888\n题目中所给变比为1.5873015873015874\n"
     ]
    }
   ],
   "source": [
    "U_10 = np.float(9947)\n",
    "k_cal = U_10 / (U_2N * 1000)\n",
    "print('k is {}'.format(k_cal))\n",
    "print('题目中所给变比为{}'.format(k))"
   ]
  },
  {
   "source": [
    "计算励磁阻抗\n",
    "\n",
    "由于simulink里励磁支路的电阻和电抗是并联的，"
   ],
   "cell_type": "markdown",
   "metadata": {}
  },
  {
   "cell_type": "code",
   "execution_count": 126,
   "metadata": {},
   "outputs": [
    {
     "output_type": "stream",
     "name": "stdout",
     "text": [
      "Z_m is 703.3232323232323 ohm\n题目中所给励磁阻抗的模为707.1067811865476 ohm\n"
     ]
    }
   ],
   "source": [
    "I_0 = np.float(44.66)\n",
    "Z_m = U_2N * 1000 * np.square(k_cal) / (I_0 * coff) #折算到一次侧\n",
    "print('Z_m is {} ohm'.format(Z_m))\n",
    "Z_m_question = np.sqrt(np.sum(np.square([R_m,X_m])))\n",
    "print('题目中所给励磁阻抗的模为{} ohm'.format(Z_m_question))"
   ]
  },
  {
   "source": [
    "计算励磁电阻"
   ],
   "cell_type": "markdown",
   "metadata": {}
  },
  {
   "cell_type": "code",
   "execution_count": 127,
   "metadata": {},
   "outputs": [
    {
     "output_type": "stream",
     "name": "stdout",
     "text": [
      "R_m is 497.7115113292445 ohm\n题目中所给励磁电阻为500.0 ohm\n"
     ]
    }
   ],
   "source": [
    "P = np.float(197000)\n",
    "p_0 = P\n",
    "R_m_cal = p_0 * np.square(k) / (np.square(I_0) * coff)\n",
    "print('R_m is {} ohm'.format(R_m_cal))\n",
    "print('题目中所给励磁电阻为{} ohm'.format(R_m))"
   ]
  },
  {
   "source": [
    "计算励磁电抗"
   ],
   "cell_type": "markdown",
   "metadata": {}
  },
  {
   "cell_type": "code",
   "execution_count": 128,
   "metadata": {},
   "outputs": [
    {
     "output_type": "stream",
     "name": "stdout",
     "text": [
      "X_m is 496.937441350477 ohm\n题目中所给的励磁电抗为500.0 ohm\n"
     ]
    }
   ],
   "source": [
    "X_m_cal = (np.sqrt(np.square(Z_m)-np.square(R_m_cal)))\n",
    "print('X_m is {} ohm'.format(X_m_cal))\n",
    "print('题目中所给的励磁电抗为{} ohm'.format(X_m))"
   ]
  }
 ]
}