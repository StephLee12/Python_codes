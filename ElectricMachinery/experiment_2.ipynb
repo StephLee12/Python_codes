{
 "metadata": {
  "language_info": {
   "codemirror_mode": {
    "name": "ipython",
    "version": 3
   },
   "file_extension": ".py",
   "mimetype": "text/x-python",
   "name": "python",
   "nbconvert_exporter": "python",
   "pygments_lexer": "ipython3",
   "version": "3.7.7-final"
  },
  "orig_nbformat": 2,
  "kernelspec": {
   "name": "Python 3.7.7 64-bit ('usualEnv': conda)",
   "display_name": "Python 3.7.7 64-bit ('usualEnv': conda)",
   "metadata": {
    "interpreter": {
     "hash": "ffce47e96513169ae8a63192f15a1bcf444fe27eb030511ca4e393e94d40ac6b"
    }
   }
  }
 },
 "nbformat": 4,
 "nbformat_minor": 2,
 "cells": [
  {
   "source": [
    "题目相关参数\n",
    "\n",
    "- 一次绕组星形联结\n",
    "- 二次绕组三角形联结"
   ],
   "cell_type": "markdown",
   "metadata": {}
  },
  {
   "cell_type": "code",
   "execution_count": 1,
   "metadata": {},
   "outputs": [],
   "source": [
    "import numpy as np \n",
    "\n",
    "S_N = np.float(8000) # kVA 额定功率 8MVA\n",
    "P_L = np.float(4000) # kVA 负载有功额定 4MVA\n",
    "Q_L = np.float(1000) # kVA 负载无功额定 1MVA\n",
    "\n",
    "U_1N = np.float(110) # kV 一次侧额定电压 110kV\n",
    "U_2N = np.float(6.3) # kV 二次侧额定电压 6.3kV\n",
    "U_1N_phi = U_1N / np.sqrt(3) # 一次侧相电压 星形联结\n",
    "U_2N_phi = U_2N / np.sqrt(3) # 二次侧相电压 星形联结\n",
    "k = U_1N_phi / U_2N_phi  # 变比\n",
    "\n",
    "I_1N_phi = S_N / (3 * U_1N_phi) # 一次侧额定相流\n",
    "I_2N_phi = S_N / (3 * U_2N_phi)\n",
    "\n",
    "R_line = 1 # ohm 线路电阻\n",
    "L_line = 0.001 # H 线路电感\n",
    "\n",
    "p_0 = np.float(12) # kW\n",
    "f = np.float(50) # 频率\n",
    "pi = np.pi\n",
    "p_kN = np.float(50) # kW\n",
    "\n",
    "Z_k = [9.453,158.5] # 短路阻抗 第一个元素为电阻 第二个元素为电抗 折算到一次侧\n",
    "Z_m = [np.float(31400),np.float(175148)] # 励磁阻抗 电阻、电抗"
   ]
  },
  {
   "source": [
    "将一二次绕组的电抗换算为电感"
   ],
   "cell_type": "markdown",
   "metadata": {}
  },
  {
   "cell_type": "code",
   "execution_count": 2,
   "metadata": {},
   "outputs": [
    {
     "output_type": "stream",
     "name": "stdout",
     "text": [
      "一次绕组的电阻为0.030906025606914186ohm 电感为0.0016495021883982152H\n二次绕组的电阻为0.030906025606914186ohm 电感为0.0016495021883982152H\n励磁绕组的电阻为31400.0ohm 电感为557.5133994531857H\n"
     ]
    }
   ],
   "source": [
    "L_m = Z_m[1] / (2*pi*f) # 励磁电感\n",
    "# 根据 R_1 + k^2 R_2 = R_k X_1 + k^2 X_2 = X_k\n",
    "Z_k_1 = [Z_k[0]/(1+np.square(k)),Z_k[1]/(1+np.square(k))] # 一次绕组的电阻和电抗 \n",
    "Z_k_2 = [Z_k[0]/(1+np.square(k)),Z_k[1]/(1+np.square(k))] # 二次绕组的电阻和电抗\n",
    "L_1_m = Z_k_1[1] / (2*pi*f) # 一次绕组的电感\n",
    "L_2_m = Z_k_2[1] / (2*pi*f) #  二次绕组的电感\n",
    "print('一次绕组的电阻为{}ohm 电感为{}H'.format(Z_k_1[0],L_1_m))\n",
    "print('二次绕组的电阻为{}ohm 电感为{}H'.format(Z_k_2[0],L_2_m))\n",
    "print('励磁绕组的电阻为{}ohm 电感为{}H'.format(Z_m[0],L_m))"
   ]
  },
  {
   "source": [
    "实验数据"
   ],
   "cell_type": "markdown",
   "metadata": {}
  },
  {
   "cell_type": "code",
   "execution_count": 3,
   "metadata": {},
   "outputs": [
    {
     "output_type": "stream",
     "name": "stdout",
     "text": [
      "二次侧负载的相电压为3230.0000000000005kV\n压降为11.198030024643273%\n效率为81.12625353561327%\n"
     ]
    }
   ],
   "source": [
    "U_2 = 3230 * np.sqrt(3) # 二次侧电压\n",
    "voltage_down = (U_2N * 1000 - U_2) / (U_2N * 1000) # 压降\n",
    "P_2 = np.float(3155) # 负载有功 测量值 kVA\n",
    "Q_2 = np.float(788.8) # 负载无功 测量值 kVA\n",
    "P_1 = np.float(3889) # 输入有功 测量值 kVA\n",
    "Q_1 = np.float(1134) # 输入无功 测量值 kVA\n",
    "eta = P_2 / P_1 \n",
    "print('二次侧负载的相电压为{}kV'.format(U_2/np.sqrt(3)))\n",
    "print('压降为{}%'.format(voltage_down*100))\n",
    "print('效率为{}%'.format(eta*100))"
   ]
  },
  {
   "source": [
    "计算负载的阻抗 并折算到一次侧 注意 负载的RL是并联"
   ],
   "cell_type": "markdown",
   "metadata": {}
  },
  {
   "cell_type": "code",
   "execution_count": 4,
   "metadata": {},
   "outputs": [],
   "source": [
    "R_L = np.square(U_2N_phi*1000)/((P_L/3)*1000) # 负载电阻\n",
    "X_L = np.square(U_2N_phi*1000)/((Q_L/3)*1000) # 负载电抗\n",
    "revise_coff = (R_L*X_L)/(np.sum(np.square([R_L,X_L])))  # 负载阻抗修正系数 是并联\n",
    "# 负载阻抗 折算到一次侧\n",
    "Z_L = [revise_coff * X_L * np.square(k), revise_coff * R_L * np.square(k)]\n",
    "# 加上线路阻抗后折算到一次侧\n",
    "Z_L_plus_line = [Z_L[0]+R_line*np.square(k),Z_L[1]+2*pi*f*L_line*np.square(k)]\n",
    "# 加上一二次绕组的阻抗\n",
    "Z_total = list(np.array(Z_L_plus_line) + np.array(Z_k))"
   ]
  },
  {
   "source": [
    "计算一次相电流 注意 是在一相进行计算 忽略励磁\n",
    "\n",
    "之后再计算负载的相电压"
   ],
   "cell_type": "markdown",
   "metadata": {}
  },
  {
   "cell_type": "code",
   "execution_count": 5,
   "metadata": {},
   "outputs": [
    {
     "output_type": "stream",
     "name": "stdout",
     "text": [
      "手算得二次侧负载相电压3229.088738927877V\n仿真得二次侧负载相电压3230.0000000000005V\n"
     ]
    }
   ],
   "source": [
    "I_1_phi = U_1N_phi * 1000 / np.sqrt(np.sum(np.square(Z_total)))\n",
    "# 折算回二次侧\n",
    "U_2_phi_cal = I_1_phi * np.sqrt(np.sum(np.square(Z_L))) / k\n",
    "print('手算得二次侧负载相电压{}V'.format(U_2_phi_cal))\n",
    "print('仿真得二次侧负载相电压{}V'.format(U_2/np.sqrt(3)))"
   ]
  },
  {
   "source": [
    "计算输出容量"
   ],
   "cell_type": "markdown",
   "metadata": {}
  },
  {
   "cell_type": "code",
   "execution_count": 6,
   "metadata": {},
   "outputs": [
    {
     "output_type": "stream",
     "name": "stdout",
     "text": [
      "计算得输出容量为3249.5601230236116kVA\n计算得输出有功为3152536.3821226987kVA\n仿真得输出容量为3252.1116893489375kVA\n仿真得输出有功为3155.0kVA\n"
     ]
    }
   ],
   "source": [
    "S_L_cal = 3 * I_1_phi * k * U_2_phi_cal\n",
    "cos_phi = Z_L[0] / np.sqrt(np.sum(np.square(Z_L)))\n",
    "print('计算得输出容量为{}kVA'.format(S_L_cal/1000))\n",
    "print('计算得输出有功为{}kVA'.format(S_L_cal*cos_phi))\n",
    "print('仿真得输出容量为{}kVA'.format(np.sqrt(np.sum(np.square([P_2,Q_2])))))\n",
    "print('仿真得输出有功为{}kVA'.format(P_2))"
   ]
  }
 ]
}