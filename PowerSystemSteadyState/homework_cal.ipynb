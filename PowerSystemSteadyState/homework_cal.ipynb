{
 "metadata": {
  "language_info": {
   "codemirror_mode": {
    "name": "ipython",
    "version": 3
   },
   "file_extension": ".py",
   "mimetype": "text/x-python",
   "name": "python",
   "nbconvert_exporter": "python",
   "pygments_lexer": "ipython3",
   "version": "3.7.7-final"
  },
  "orig_nbformat": 2,
  "kernelspec": {
   "name": "Python 3.7.7 64-bit ('usualEnv': conda)",
   "display_name": "Python 3.7.7 64-bit ('usualEnv': conda)",
   "metadata": {
    "interpreter": {
     "hash": "ffce47e96513169ae8a63192f15a1bcf444fe27eb030511ca4e393e94d40ac6b"
    }
   }
  }
 },
 "nbformat": 4,
 "nbformat_minor": 2,
 "cells": [
  {
   "cell_type": "code",
   "execution_count": 14,
   "metadata": {},
   "outputs": [],
   "source": [
    "import numpy as np\n",
    "P_k = 234.4 # kW\n",
    "U_1N = 121.0 # kV\n",
    "S_N = 40.5 # MVA\n",
    "P_0 = 93.6 # kW\n",
    "U_k_percent = 11\n",
    "I_0_percent = 2.315"
   ]
  },
  {
   "cell_type": "code",
   "execution_count": 15,
   "metadata": {},
   "outputs": [
    {
     "output_type": "execute_result",
     "data": {
      "text/plain": [
       "2.092272763298278"
      ]
     },
     "metadata": {},
     "execution_count": 15
    }
   ],
   "source": [
    "R_T = P_k * np.square(U_1N) / (1000 * np.square(S_N))\n",
    "R_T"
   ]
  },
  {
   "cell_type": "code",
   "execution_count": 16,
   "metadata": {},
   "outputs": [
    {
     "output_type": "execute_result",
     "data": {
      "text/plain": [
       "39.76567901234568"
      ]
     },
     "metadata": {},
     "execution_count": 16
    }
   ],
   "source": [
    "X_T = U_k_percent * np.square(U_1N) / (100*S_N)\n",
    "X_T"
   ]
  },
  {
   "cell_type": "code",
   "execution_count": 17,
   "metadata": {},
   "outputs": [
    {
     "output_type": "execute_result",
     "data": {
      "text/plain": [
       "6.393005942217062e-06"
      ]
     },
     "metadata": {},
     "execution_count": 17
    }
   ],
   "source": [
    "G_T = P_0 / (1000*np.square(U_1N))\n",
    "G_T"
   ]
  },
  {
   "cell_type": "code",
   "execution_count": 18,
   "metadata": {},
   "outputs": [
    {
     "output_type": "execute_result",
     "data": {
      "text/plain": [
       "6.403763404139061e-05"
      ]
     },
     "metadata": {},
     "execution_count": 18
    }
   ],
   "source": [
    "B_T = (I_0_percent*S_N)/(100*np.square(U_1N))\n",
    "B_T"
   ]
  },
  {
   "cell_type": "code",
   "execution_count": null,
   "metadata": {},
   "outputs": [],
   "source": []
  }
 ]
}